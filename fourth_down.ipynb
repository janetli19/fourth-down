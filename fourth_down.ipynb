{
 "cells": [
  {
   "cell_type": "markdown",
   "metadata": {},
   "source": [
    "## Stat 143 Project 2: Fourth Down\n",
    "Author: Janet Li"
   ]
  },
  {
   "cell_type": "code",
   "execution_count": 1,
   "metadata": {},
   "outputs": [],
   "source": [
    "import pandas as pd\n",
    "import numpy as np\n",
    "import scipy.signal as signal\n",
    "import matplotlib.pyplot as plt\n",
    "import seaborn as sns"
   ]
  },
  {
   "cell_type": "code",
   "execution_count": 2,
   "metadata": {},
   "outputs": [],
   "source": [
    "# load data\n",
    "DATADIR = ''\n",
    "nfl_pbp = pd.read_csv(DATADIR + 'NFL_PbP_2009_2018_4thDownAnalysis.csv')"
   ]
  },
  {
   "cell_type": "code",
   "execution_count": 3,
   "metadata": {},
   "outputs": [],
   "source": [
    "# smoothing functions\n",
    "def nonparam_smooth(y,smooth_type='savgol',window=21):\n",
    "    if smooth_type=='savgol':\n",
    "        y[~np.isnan(y)] = signal.savgol_filter(y[~np.isnan(y)],window,2)\n",
    "    return y\n",
    "\n",
    "def poly_smooth(x,y,deg):\n",
    "    nanvals = np.isnan(y)\n",
    "    pfit,cov = np.polyfit(x[~nanvals],y[~nanvals],deg, cov=True)\n",
    "    yp = np.poly1d(pfit)(x)\n",
    "    return yp,pfit,cov"
   ]
  },
  {
   "cell_type": "code",
   "execution_count": 4,
   "metadata": {},
   "outputs": [],
   "source": [
    "# max yards to go + 1\n",
    "max_ytg = 16"
   ]
  },
  {
   "cell_type": "markdown",
   "metadata": {},
   "source": [
    "## Going for it"
   ]
  },
  {
   "cell_type": "code",
   "execution_count": 5,
   "metadata": {},
   "outputs": [],
   "source": [
    "# probability of 1st down given yards to go\n",
    "plays = nfl_pbp[(nfl_pbp.play_type == 'pass') | (nfl_pbp.play_type == 'run')]\n",
    "firstDown_prob = np.zeros(max_ytg-1)\n",
    "for ytg in range(1, max_ytg):\n",
    "    firstDown_prob[ytg-1] = np.mean(plays.yards_gained[plays.ydstogo == ytg] >= ytg)\n",
    "    \n",
    "# piecewise polynomial smooth\n",
    "firstDown_poly = poly_smooth(np.arange(1,max_ytg), firstDown_prob.copy(), deg=3)[0]\n",
    "firstDown_prob = dict(zip(range(1,max_ytg), firstDown_poly))"
   ]
  },
  {
   "cell_type": "code",
   "execution_count": 6,
   "metadata": {},
   "outputs": [],
   "source": [
    "# expected value of 1st down given yardline\n",
    "plays = nfl_pbp[nfl_pbp['down'] == 1]\n",
    "firstDown_pts = {}\n",
    "for yds in range(1,100):\n",
    "    firstDown_pts[yds] = np.mean(plays[plays.yardline_100 == yds].next_score_relative_to_posteam)"
   ]
  },
  {
   "cell_type": "code",
   "execution_count": 7,
   "metadata": {},
   "outputs": [],
   "source": [
    "# cost of turnover given yardline\n",
    "firstDown_cost = {}\n",
    "for yds in range(1,100):\n",
    "    firstDown_cost[yds] = -1 * firstDown_pts[100-yds]"
   ]
  },
  {
   "cell_type": "code",
   "execution_count": 8,
   "metadata": {},
   "outputs": [
    {
     "data": {
      "text/plain": [
       "6.071859914989405"
      ]
     },
     "execution_count": 8,
     "metadata": {},
     "output_type": "execute_result"
    }
   ],
   "source": [
    "# expected points from touchdown\n",
    "\n",
    "# expected points from 1 or 2 pt conversion\n",
    "# P(1-pt conversion) * P(successful 1-pt conversion) + 2 * P(2-pt conversion) * P(successful 2-pt conversion)\n",
    "\n",
    "one_pt_plays = np.sum(nfl_pbp.extra_point_attempt == 1)\n",
    "two_pt_plays = np.sum(nfl_pbp.two_point_attempt == 1)\n",
    "\n",
    "one_pt_prob = one_pt_plays / (one_pt_plays + two_pt_plays)\n",
    "one_pt_success = np.mean(nfl_pbp[nfl_pbp.extra_point_attempt == 1].extra_point_result == 'good')\n",
    "two_pt_success = np.mean(nfl_pbp[nfl_pbp.two_point_attempt == 1].two_point_conv_result == 'success')\n",
    "\n",
    "extra_pts = one_pt_prob * one_pt_success + 2 * (1 - one_pt_prob) * two_pt_success\n",
    "\n",
    "# average starting position after kickoff\n",
    "kickoffs = nfl_pbp[nfl_pbp['kickoff_attempt'] == 1].index\n",
    "kickoff_dist = round(np.mean(nfl_pbp.iloc[kickoffs+1].yardline_100))\n",
    "kickoff_dist\n",
    "\n",
    "# expected points from touchdown\n",
    "td_pts = 6 + extra_pts - firstDown_pts[kickoff_dist]\n",
    "td_pts"
   ]
  },
  {
   "cell_type": "code",
   "execution_count": 9,
   "metadata": {},
   "outputs": [],
   "source": [
    "# expected value of going for it, given yardline and yards to go\n",
    "\n",
    "goforit = {}\n",
    "for yardline in range(1, 100):\n",
    "    yardline_value = {}\n",
    "    for ytg in range(1, max_ytg):\n",
    "        if yardline == ytg: # score touchdown\n",
    "            yardline_value[ytg] = firstDown_prob[ytg]*td_pts + (1-firstDown_prob[ytg])*firstDown_cost[yardline]\n",
    "        elif yardline > ytg:\n",
    "            yardline_value[ytg] = firstDown_prob[ytg]*firstDown_pts[yardline-ytg] + (1-firstDown_prob[ytg])*firstDown_cost[yardline]\n",
    "    goforit[yardline] = yardline_value\n"
   ]
  },
  {
   "cell_type": "markdown",
   "metadata": {},
   "source": [
    "## Field goal"
   ]
  },
  {
   "cell_type": "code",
   "execution_count": 10,
   "metadata": {},
   "outputs": [],
   "source": [
    "# probability of field goal given yardline\n",
    "plays = nfl_pbp[nfl_pbp['field_goal_attempt']==1]\n",
    "fg_prob = np.zeros(99)\n",
    "for i in range(50): # prob of field goal at any field position >= 50 is set to 0\n",
    "    rows = plays.yardline_100==i+1\n",
    "    fg_prob[i] = np.mean(plays[rows].posteam_score_post > plays[rows].posteam_score)\n",
    "\n",
    "# nonparametric smooth\n",
    "fg_nonparam = nonparam_smooth(fg_prob.copy(), window=21)\n",
    "fg_nonparam[fg_nonparam < 0] = 0\n",
    "fg_nonparam[fg_nonparam > 1] = 1\n",
    "\n",
    "fg_prob = dict(zip(range(1,100),fg_prob))"
   ]
  },
  {
   "cell_type": "code",
   "execution_count": 11,
   "metadata": {},
   "outputs": [],
   "source": [
    "# expected value of field goal given field position\n",
    "fg = {}\n",
    "fg_value = 3 - firstDown_pts[kickoff_dist] # value of field goal\n",
    "for yds in range(1, 100):\n",
    "    if yds < 92: # max field position for field goal is 92\n",
    "        fg[yds] = fg_prob[yds]*fg_value - (1-fg_prob[yds])*firstDown_pts[min(80, 100-(yds+8))]\n",
    "    else:\n",
    "        fg[yds] = -10 # small value that will never be chosen"
   ]
  },
  {
   "cell_type": "markdown",
   "metadata": {},
   "source": [
    "## Punt"
   ]
  },
  {
   "cell_type": "code",
   "execution_count": 12,
   "metadata": {},
   "outputs": [],
   "source": [
    "# expected value of punt given field position\n",
    "plays = nfl_pbp[nfl_pbp.play_type == \"punt\"]\n",
    "punt = {}\n",
    "for yds in range(1, 100):\n",
    "    punt_dist = np.mean(plays[plays.yardline_100==yds].kick_distance) - np.mean(plays[plays.yardline_100==yds].return_yards)\n",
    "    if punt_dist != punt_dist: # if nan, then touchback\n",
    "        punt[yds] = -1 * firstDown_pts[80]\n",
    "    else:\n",
    "        punt[yds] = -1 * firstDown_pts[min(round(100-yds+punt_dist), 80)]"
   ]
  },
  {
   "cell_type": "markdown",
   "metadata": {},
   "source": [
    "## Recommendations"
   ]
  },
  {
   "cell_type": "code",
   "execution_count": 13,
   "metadata": {},
   "outputs": [],
   "source": [
    "# get optimal decision and expected points given yardline and yards to go\n",
    "# for decision: 0 = impossible, 1 = go for it, 2 = field goal, 3 = punt\n",
    "# for expected points: 300 = impossible\n",
    "decision = np.zeros((max_ytg, 100))\n",
    "points = np.zeros((max_ytg, 100))\n",
    "points.fill(300)\n",
    "for yardline in range(1,100):\n",
    "    for ytg in range(1, min(yardline+1, max_ytg)):\n",
    "        if yardline + ytg > 100:\n",
    "            decision[ytg][yardline] = 0\n",
    "            points[ytg][yardline] = 300\n",
    "        else:\n",
    "            decision[ytg][yardline] = np.array([goforit[yardline][ytg], fg[yardline], punt[yardline]]).argmax()+1\n",
    "            points[ytg][yardline] = max([goforit[yardline][ytg], fg[yardline], punt[yardline]])"
   ]
  },
  {
   "cell_type": "code",
   "execution_count": 14,
   "metadata": {},
   "outputs": [
    {
     "data": {
      "image/png": "[encoded data removed]",
      "text/plain": [
       "<Figure size 1080x576 with 1 Axes>"
      ]
     },
     "metadata": {
      "needs_background": "light"
     },
     "output_type": "display_data"
    }
   ],
   "source": [
    "plt.figure(figsize=(15,8))\n",
    "ax = sns.heatmap(decision, mask=np.ma.masked_values(decision, 0).mask, vmin=0, vmax=3, xticklabels=5, \n",
    "                 yticklabels=1, cmap='viridis', cbar=False, linewidths=.1)\n",
    "plt.xlim(1,100)\n",
    "plt.ylim(max_ytg,1)\n",
    "plt.xlabel(\"Field position (yards to goal)\")\n",
    "plt.ylabel(\"4th and ...\")\n",
    "for item in ([ax.xaxis.label, ax.yaxis.label] + ax.get_xticklabels() + ax.get_yticklabels()):\n",
    "    item.set_fontsize(14)\n",
    "plt.show()"
   ]
  },
  {
   "cell_type": "code",
   "execution_count": 15,
   "metadata": {},
   "outputs": [
    {
     "data": {
      "image/png": "[encoded data removed]",
      "text/plain": [
       "<Figure size 1080x504 with 2 Axes>"
      ]
     },
     "metadata": {
      "needs_background": "light"
     },
     "output_type": "display_data"
    }
   ],
   "source": [
    "plt.figure(figsize=(15,7))\n",
    "ax = sns.heatmap(points, mask=np.ma.masked_values(points, 300).mask, xticklabels=5, yticklabels=1, \n",
    "                 cmap='RdYlGn', cbar=True, linewidths=.1)\n",
    "plt.xlim(1,100)\n",
    "plt.ylim(max_ytg,1)\n",
    "plt.xlabel(\"Field position (yards to goal)\")\n",
    "plt.ylabel(\"4th and ...\")\n",
    "for item in ([ax.xaxis.label, ax.yaxis.label] + ax.get_xticklabels() + ax.get_yticklabels()):\n",
    "    item.set_fontsize(13)\n",
    "plt.show()"
   ]
  },
  {
   "cell_type": "code",
   "execution_count": null,
   "metadata": {},
   "outputs": [],
   "source": []
  }
 ],
 "metadata": {
  "kernelspec": {
   "display_name": "Python 3",
   "language": "python",
   "name": "python3"
  },
  "language_info": {
   "codemirror_mode": {
    "name": "ipython",
    "version": 3
   },
   "file_extension": ".py",
   "mimetype": "text/x-python",
   "name": "python",
   "nbconvert_exporter": "python",
   "pygments_lexer": "ipython3",
   "version": "3.7.7"
  }
 },
 "nbformat": 4,
 "nbformat_minor": 4
}
